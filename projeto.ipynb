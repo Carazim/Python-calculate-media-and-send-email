{
 "cells": [
  {
   "cell_type": "markdown",
   "metadata": {},
   "source": [
    "# Projeto 02\n",
    "\n",
    "Passo a passo do problema\n",
    "\n",
    "- Buscar as informaçoes da ação automaticamente\n",
    "- Criar as análises solicitadas\n",
    "  - Cotação máxima\n",
    "  - Cotação mínima\n",
    "  - Valor médio\n",
    "- Enviar um e-mail automaticamente para o gestor"
   ]
  },
  {
   "cell_type": "markdown",
   "metadata": {},
   "source": [
    "#### Buscar dados da ação automaticamente\n",
    "\n",
    "Bibliotecas : 'yfinance' e 'matplotlib'\n"
   ]
  },
  {
   "cell_type": "code",
   "execution_count": 1,
   "metadata": {},
   "outputs": [],
   "source": [
    "# importando a yfinance\n",
    "import yfinance"
   ]
  },
  {
   "cell_type": "code",
   "execution_count": 2,
   "metadata": {},
   "outputs": [
    {
     "name": "stderr",
     "output_type": "stream",
     "text": [
      "Could not get exchangeTimezoneName for ticker '' reason: 'chart'\n",
      "$: possibly delisted; No timezone found\n"
     ]
    },
    {
     "data": {
      "text/plain": [
       "<Axes: xlabel='Date'>"
      ]
     },
     "execution_count": 2,
     "metadata": {},
     "output_type": "execute_result"
    },
    {
     "data": {
      "image/png": "[encoded data removed]",
      "text/plain": [
       "<Figure size 640x480 with 1 Axes>"
      ]
     },
     "metadata": {},
     "output_type": "display_data"
    }
   ],
   "source": [
    "ticker = input(\"Digite o código da ação desejada: \")\n",
    "\n",
    "dados = yfinance.Ticker(ticker).history(start=\"2020-01-01\", end=\"2020-12-31\")\n",
    "fechamento = dados.Close\n",
    "fechamento.plot()"
   ]
  },
  {
   "cell_type": "markdown",
   "metadata": {},
   "source": [
    "# Criar as análises solicitadas\n",
    " - Cotação máxima\n",
    " - Cotação mínima\n",
    " - Valor médio"
   ]
  },
  {
   "cell_type": "code",
   "execution_count": 17,
   "metadata": {},
   "outputs": [
    {
     "name": "stdout",
     "output_type": "stream",
     "text": [
      "11.28\n",
      "4.13\n",
      "8.17\n"
     ]
    }
   ],
   "source": [
    "maxima = round(fechamento.max(), 2)\n",
    "minima = round(fechamento.min(), 2)\n",
    "valor_medio = round(fechamento.mean(), 2)\n",
    "\n",
    "print(maxima)\n",
    "print(minima)\n",
    "print(valor_medio)\n"
   ]
  },
  {
   "cell_type": "markdown",
   "metadata": {},
   "source": [
    "#### Enviar o e-mail automaticamente\n",
    "\n",
    " - abrir o navegador e ir para o  gmail\n",
    " - clicar no botão Escrever\n",
    " - Digitar o email do destinatário e teclar TAB\n",
    " - Digitar o assunto e teclar TAB\n",
    " - Digitar a mensagem\n",
    " - Clicar no botão enviar\n",
    "\n",
    " Biblioteca pyautogui, pyperclip, webbrowser\n",
    "\n",
    "  \n",
    "  pip install pyautogui"
   ]
  },
  {
   "cell_type": "markdown",
   "metadata": {},
   "source": [
    "#### Bibliotecas"
   ]
  },
  {
   "cell_type": "code",
   "execution_count": 29,
   "metadata": {},
   "outputs": [],
   "source": [
    "import pyautogui\n",
    "import pyperclip\n",
    "import webbrowser\n",
    "import time\n",
    "\n",
    "destinatario = \"mateusgm2013@gmail.com\"\n",
    "assunto = \"Análises do Projeto 2020\"\n",
    "\n",
    "mensagem = f\"\"\"\n",
    "Prezado gestor,\n",
    "\n",
    "Seguem as análises solicitadas da ação {ticker}:\n",
    "\n",
    "Cotação máxima: R${maxima}\n",
    "Cotação mínima: R${minima}\n",
    "Valor médio: R${valor_medio}\n",
    "\n",
    "Qualquer duvida estou a disposição\n",
    "\n",
    "Atte.\n",
    "\"\"\"\n",
    "\n",
    "# abrir o navegador e ir para o gmail\n",
    "webbrowser.open(\"www.gmail.com\")\n",
    "time.sleep(6)\n",
    "\n",
    "# configurando uma pausa de 4 segundos\n",
    "pyautogui.PAUSE = 3\n",
    "\n",
    "# clicar no botão escrever\n",
    "pyautogui.click(x=163, y=197)\n",
    "\n",
    "# digitar o email do destinatário e teclar TAB\n",
    "pyperclip.copy(destinatario)\n",
    "pyautogui.hotkey(\"ctrl\", \"v\")\n",
    "pyautogui.hotkey(\"tab\")\n",
    "\n",
    "# digitar o assunto do email\n",
    "pyperclip.copy(assunto)\n",
    "pyautogui.hotkey(\"ctrl\", \"v\")\n",
    "pyautogui.hotkey(\"tab\")\n",
    "\n",
    "# digitar a mensagem \n",
    "pyperclip.copy(mensagem)\n",
    "pyautogui.hotkey(\"ctrl\", \"v\")\n",
    "\n",
    "# clicar no botão enviar\n",
    "pyautogui.click(x=1307, y=995)"
   ]
  },
  {
   "cell_type": "code",
   "execution_count": 28,
   "metadata": {},
   "outputs": [
    {
     "data": {
      "text/plain": [
       "Point(x=1307, y=995)"
      ]
     },
     "execution_count": 28,
     "metadata": {},
     "output_type": "execute_result"
    }
   ],
   "source": [
    "time.sleep(5)\n",
    "pyautogui.position()"
   ]
  }
 ],
 "metadata": {
  "kernelspec": {
   "display_name": "Python 3",
   "language": "python",
   "name": "python3"
  },
  "language_info": {
   "codemirror_mode": {
    "name": "ipython",
    "version": 3
   },
   "file_extension": ".py",
   "mimetype": "text/x-python",
   "name": "python",
   "nbconvert_exporter": "python",
   "pygments_lexer": "ipython3",
   "version": "3.12.3"
  }
 },
 "nbformat": 4,
 "nbformat_minor": 2
}
